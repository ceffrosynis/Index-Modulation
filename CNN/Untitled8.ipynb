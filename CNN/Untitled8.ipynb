{
  "nbformat": 4,
  "nbformat_minor": 0,
  "metadata": {
    "colab": {
      "name": "Untitled8.ipynb",
      "provenance": [],
      "collapsed_sections": []
    },
    "kernelspec": {
      "name": "python3",
      "display_name": "Python 3"
    },
    "language_info": {
      "name": "python"
    }
  },
  "cells": [
    {
      "cell_type": "code",
      "metadata": {
        "id": "ECA0tMgAAVmx"
      },
      "source": [
        ""
      ],
      "execution_count": null,
      "outputs": []
    },
    {
      "cell_type": "code",
      "metadata": {
        "id": "2eRzoTz0AOzs"
      },
      "source": [
        "%matplotlib inline\n",
        "import os,random\n",
        "os.environ[\"KERAS_BACKEND\"] = \"theano\"\n",
        "os.environ[\"KERAS_BACKEND\"] = \"tensorflow\"\n",
        "os.environ[\"THEANO_FLAGS\"]  = \"device=gpu\"\n",
        "import numpy as np\n",
        "from keras.utils import np_utils\n",
        "import keras.models as models\n",
        "from keras.layers.core import Reshape,Dense,Dropout,Activation,Flatten\n",
        "from keras.layers.noise import GaussianNoise\n",
        "from keras.layers.convolutional import Conv2D, MaxPooling2D, ZeroPadding2D\n",
        "from keras.regularizers import *\n",
        "import matplotlib.pyplot as plt\n",
        "import seaborn as sns\n",
        "import _pickle as cPickle\n",
        "import random, sys, keras\n",
        "import matplotlib.pyplot as plt\n",
        "\n",
        "with open('/content/drive/My Drive/dataset.pkl', 'br') as f:\n",
        "    Xd = cPickle.load(f, encoding='latin1')\n",
        "\n",
        "\n",
        "def divide_chunks(l, n): \n",
        "    # looping till length l \n",
        "    for i in range(0, len(l), n):  \n",
        "        yield l[i:i + n] \n",
        "\n",
        "mods = ['qam4', 'qam16', 'qam64']\n",
        "\n",
        "X = []  \n",
        "lbl = []\n",
        "for mod in mods:\n",
        "  chunksReal = list(divide_chunks(list(map(float, Xd[mod][0])), 128))[:-1]\n",
        "  chunksImag = list(divide_chunks(list(map(float, Xd[mod][1])), 128))[:-1]\n",
        "  chunks = list(map(list, zip(chunksReal, chunksImag)))\n",
        "  X.append(chunks)\n",
        "  for i in range(len(chunks)):  lbl.append(mod)\n",
        "X = np.vstack(X)"
      ],
      "execution_count": 2,
      "outputs": []
    }
  ]
}